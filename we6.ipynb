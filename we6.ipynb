{
 "cells": [
  {
   "cell_type": "markdown",
   "metadata": {},
   "source": [
    "# lambda function"
   ]
  },
  {
   "cell_type": "code",
   "execution_count": 6,
   "metadata": {},
   "outputs": [
    {
     "name": "stdout",
     "output_type": "stream",
     "text": [
      "12\n"
     ]
    }
   ],
   "source": [
    "variable_name = 10\n",
    "\n",
    "function_name = lambda x: x * 2\n",
    "\n",
    "print(function_name(6))\n",
    "\n",
    "\n",
    "\n"
   ]
  },
  {
   "cell_type": "markdown",
   "metadata": {},
   "source": [
    "# variable reuse"
   ]
  },
  {
   "cell_type": "code",
   "execution_count": 13,
   "metadata": {},
   "outputs": [],
   "source": [
    "x = 5\n",
    "\n",
    "x = \"Hello\"\n",
    "\n",
    "#In this example, x initially holds an integer but is later assigned a string.​"
   ]
  },
  {
   "cell_type": "markdown",
   "metadata": {},
   "source": [
    "# multiple variable"
   ]
  },
  {
   "cell_type": "code",
   "execution_count": 14,
   "metadata": {},
   "outputs": [],
   "source": [
    "x, y, z = 10, 20, 30\n",
    "\n",
    "#This assigns 10 to x, 20 to y, and 30 to z.​"
   ]
  },
  {
   "cell_type": "code",
   "execution_count": 3,
   "metadata": {},
   "outputs": [
    {
     "data": {
      "text/plain": [
       "10"
      ]
     },
     "execution_count": 3,
     "metadata": {},
     "output_type": "execute_result"
    }
   ],
   "source": [
    "x"
   ]
  },
  {
   "cell_type": "code",
   "execution_count": 4,
   "metadata": {},
   "outputs": [
    {
     "data": {
      "text/plain": [
       "20"
      ]
     },
     "execution_count": 4,
     "metadata": {},
     "output_type": "execute_result"
    }
   ],
   "source": [
    "y"
   ]
  },
  {
   "cell_type": "code",
   "execution_count": 6,
   "metadata": {},
   "outputs": [
    {
     "data": {
      "text/plain": [
       "30"
      ]
     },
     "execution_count": 6,
     "metadata": {},
     "output_type": "execute_result"
    }
   ],
   "source": [
    "z"
   ]
  },
  {
   "cell_type": "markdown",
   "metadata": {},
   "source": [
    "# arithmetic "
   ]
  },
  {
   "cell_type": "code",
   "execution_count": 9,
   "metadata": {},
   "outputs": [
    {
     "name": "stdout",
     "output_type": "stream",
     "text": [
      "0\n"
     ]
    }
   ],
   "source": [
    "x = 10 \n",
    "\n",
    "y = 5 \n",
    "\n",
    "result = x % y \n",
    "\n",
    "print(result)"
   ]
  },
  {
   "cell_type": "code",
   "execution_count": 7,
   "metadata": {},
   "outputs": [
    {
     "name": "stdout",
     "output_type": "stream",
     "text": [
      "24"
     ]
    }
   ],
   "source": [
    "numbers = [1, 2, 3, 4, 5] \n",
    "\n",
    "for num in numbers: \n",
    "\n",
    " if num % 2 == 0: \n",
    "\n",
    "    print(num, end='') "
   ]
  },
  {
   "cell_type": "code",
   "execution_count": 8,
   "metadata": {},
   "outputs": [
    {
     "name": "stdout",
     "output_type": "stream",
     "text": [
      "None\n"
     ]
    }
   ],
   "source": [
    "list1 = [1, 2, 3]\n",
    "\n",
    "list2 = [4, 5]\n",
    "\n",
    "a=list1.extend(list2)\n",
    "print(a)"
   ]
  },
  {
   "cell_type": "markdown",
   "metadata": {},
   "source": [
    "# loops"
   ]
  },
  {
   "cell_type": "code",
   "execution_count": 10,
   "metadata": {},
   "outputs": [
    {
     "name": "stdout",
     "output_type": "stream",
     "text": [
      "0\n",
      "1\n",
      "2\n",
      "3\n",
      "4\n"
     ]
    }
   ],
   "source": [
    "for i in range(5): \n",
    "\n",
    " print(i) "
   ]
  },
  {
   "cell_type": "code",
   "execution_count": 12,
   "metadata": {},
   "outputs": [
    {
     "name": "stdout",
     "output_type": "stream",
     "text": [
      "8\n"
     ]
    }
   ],
   "source": [
    "def add_numbers(a, b=5): \n",
    "\n",
    " return a + b \n",
    "\n",
    "result = add_numbers(3) \n",
    "print(result)"
   ]
  },
  {
   "cell_type": "markdown",
   "metadata": {},
   "source": [
    "# how to ask for help"
   ]
  },
  {
   "cell_type": "code",
   "execution_count": 15,
   "metadata": {},
   "outputs": [
    {
     "name": "stdout",
     "output_type": "stream",
     "text": [
      "Help on method-wrapper:\n",
      "\n",
      "__init__ = <method-wrapper '__init__' of module object>\n",
      "    Initialize self.  See help(type(self)) for accurate signature.\n",
      "\n"
     ]
    }
   ],
   "source": [
    "help(\"__init__\")\n"
   ]
  },
  {
   "cell_type": "markdown",
   "metadata": {},
   "source": [
    "# real life examples "
   ]
  },
  {
   "cell_type": "code",
   "execution_count": 71,
   "metadata": {},
   "outputs": [
    {
     "name": "stdout",
     "output_type": "stream",
     "text": [
      "Average Movie Rating: 9.666666666666666\n",
      "Highest Rated Movie: The Godfather, Lowest Rated Movie: Inception\n"
     ]
    }
   ],
   "source": [
    "# Movie Ratings with Tuples\n",
    "\n",
    "movie_ratings = []\n",
    "\n",
    "def add_movie_rating(movie_title, rating):\n",
    "    movie = (movie_title, rating)\n",
    "    movie_ratings.append(movie)\n",
    "\n",
    "def average_rating():\n",
    "    if not movie_ratings:\n",
    "        return 0\n",
    "    total_rating = sum(rating for _, rating in movie_ratings)\n",
    "    return total_rating / len(movie_ratings)\n",
    "\n",
    "def highest_and_lowest_rated_movies():\n",
    "    if not movie_ratings:\n",
    "        return None, None\n",
    "    highest_rated = max(movie_ratings, key=lambda x: x[1])\n",
    "    lowest_rated = min(movie_ratings, key=lambda x: x[1])\n",
    "    return highest_rated[0], lowest_rated[0]\n",
    "\n",
    "# Example Usage\n",
    "add_movie_rating(\"Inception\", 9.5)\n",
    "add_movie_rating(\"The Shawshank Redemption\", 9.7)\n",
    "add_movie_rating(\"The Godfather\", 9.8)\n",
    "\n",
    "print(\"Average Movie Rating:\", average_rating())\n",
    "\n",
    "highest_rated, lowest_rated = highest_and_lowest_rated_movies()\n",
    "print(f\"Highest Rated Movie: {highest_rated}, Lowest Rated Movie: {lowest_rated}\")"
   ]
  },
  {
   "cell_type": "code",
   "execution_count": 70,
   "metadata": {},
   "outputs": [
    {
     "name": "stdout",
     "output_type": "stream",
     "text": [
      "Enrolled Courses:\n",
      "Alice: ['Math', 'Physics']\n",
      "Bob: ['Chemistry', 'Biology']\n",
      "Charlie: ['Math', 'Computer Science']\n",
      "\n",
      "Students in Math: [(1, 'Alice', ['Math', 'Physics']), (3, 'Charlie', ['Math', 'Computer Science'])]\n"
     ]
    }
   ],
   "source": [
    "# Student Enrollment System with Tuples\n",
    "\n",
    "students_enrollment = []\n",
    "\n",
    "def enroll_student(student_id, name, courses):\n",
    "    student = (student_id, name, courses)\n",
    "    students_enrollment.append(student)\n",
    "\n",
    "def display_enrolled_courses():\n",
    "    print(\"Enrolled Courses:\")\n",
    "    for student in students_enrollment:\n",
    "        _, name, courses = student\n",
    "        print(f\"{name}: {courses}\")\n",
    "\n",
    "def find_students_in_course(course):\n",
    "    return [student for student in students_enrollment if course in student[2]]\n",
    "\n",
    "# Example Usage\n",
    "enroll_student(1, \"Alice\", [\"Math\", \"Physics\"])\n",
    "enroll_student(2, \"Bob\", [\"Chemistry\", \"Biology\"])\n",
    "enroll_student(3, \"Charlie\", [\"Math\", \"Computer Science\"])\n",
    "\n",
    "display_enrolled_courses()\n",
    "\n",
    "course_to_find = \"Math\"\n",
    "students_in_course = find_students_in_course(course_to_find)\n",
    "print(f\"\\nStudents in {course_to_find}: {students_in_course}\")"
   ]
  },
  {
   "cell_type": "code",
   "execution_count": 69,
   "metadata": {},
   "outputs": [
    {
     "name": "stdout",
     "output_type": "stream",
     "text": [
      "Book Catalog:\n",
      "The Great Gatsby by F. Scott Fitzgerald (1925)\n",
      "To Kill a Mockingbird by Harper Lee (1960)\n",
      "1984 by George Orwell (1949)\n",
      "\n",
      "Books by Harper Lee: [('To Kill a Mockingbird', 'Harper Lee', 1960)]\n"
     ]
    }
   ],
   "source": [
    "# Book Catalog with Tuples\n",
    "\n",
    "book_catalog = []\n",
    "\n",
    "def add_book(title, author, publication_year):\n",
    "    book = (title, author, publication_year)\n",
    "    book_catalog.append(book)\n",
    "\n",
    "def display_catalog():\n",
    "    print(\"Book Catalog:\")\n",
    "    for book in book_catalog:\n",
    "        title, author, year = book\n",
    "        print(f\"{title} by {author} ({year})\")\n",
    "\n",
    "def find_books_by_author(author):\n",
    "    return [book for book in book_catalog if book[1] == author]\n",
    "\n",
    "# Example Usage\n",
    "add_book(\"The Great Gatsby\", \"F. Scott Fitzgerald\", 1925)\n",
    "add_book(\"To Kill a Mockingbird\", \"Harper Lee\", 1960)\n",
    "add_book(\"1984\", \"George Orwell\", 1949)\n",
    "\n",
    "display_catalog()\n",
    "\n",
    "author = \"Harper Lee\"\n",
    "books_by_author = find_books_by_author(author)\n",
    "print(f\"\\nBooks by {author}: {books_by_author}\")"
   ]
  },
  {
   "cell_type": "code",
   "execution_count": 68,
   "metadata": {},
   "outputs": [
    {
     "name": "stdout",
     "output_type": "stream",
     "text": [
      "Hottest City: Los Angeles, Coldest City: Chicago\n"
     ]
    }
   ],
   "source": [
    "# Temperature Records with Tuples\n",
    "\n",
    "temperature_records = []\n",
    "\n",
    "def add_temperature_record(city, temperature):\n",
    "    record = (city, temperature)\n",
    "    temperature_records.append(record)\n",
    "\n",
    "def hottest_and_coldest_cities():\n",
    "    if not temperature_records:\n",
    "        return None, None\n",
    "    hottest = max(temperature_records, key=lambda x: x[1])\n",
    "    coldest = min(temperature_records, key=lambda x: x[1])\n",
    "    return hottest[0], coldest[0]\n",
    "\n",
    "# Example Usage\n",
    "add_temperature_record(\"New York\", 78)\n",
    "add_temperature_record(\"Los Angeles\", 92)\n",
    "add_temperature_record(\"Chicago\", 64)\n",
    "\n",
    "hottest, coldest = hottest_and_coldest_cities()\n",
    "print(f\"Hottest City: {hottest}, Coldest City: {coldest}\")"
   ]
  },
  {
   "cell_type": "code",
   "execution_count": 67,
   "metadata": {},
   "outputs": [
    {
     "name": "stdout",
     "output_type": "stream",
     "text": [
      "Alice's Average Grade: 87.66666666666667\n",
      "Bob's Average Grade: 80.0\n",
      "Charlie's Average Grade: 91.66666666666667\n",
      "\n",
      "Student with Highest Average Grade: Charlie\n"
     ]
    }
   ],
   "source": [
    "# Student Information System with Tuples\n",
    "\n",
    "students = []\n",
    "\n",
    "def add_student(student_id, name, grades):\n",
    "    student = (student_id, name, grades)\n",
    "    students.append(student)\n",
    "\n",
    "def average_grade(student):\n",
    "    _, _, grades = student\n",
    "    return sum(grades) / len(grades)\n",
    "\n",
    "def highest_average_student():\n",
    "    if not students:\n",
    "        return None\n",
    "    return max(students, key=average_grade)\n",
    "\n",
    "# Example Usage\n",
    "add_student(1, \"Alice\", [90, 85, 88])\n",
    "add_student(2, \"Bob\", [78, 80, 82])\n",
    "add_student(3, \"Charlie\", [95, 92, 88])\n",
    "\n",
    "for student in students:\n",
    "    student_id, name, grades = student\n",
    "    print(f\"{name}'s Average Grade: {average_grade(student)}\")\n",
    "\n",
    "highest_student = highest_average_student()\n",
    "if highest_student:\n",
    "    print(f\"\\nStudent with Highest Average Grade: {highest_student[1]}\")"
   ]
  },
  {
   "cell_type": "code",
   "execution_count": 23,
   "metadata": {},
   "outputs": [
    {
     "name": "stdout",
     "output_type": "stream",
     "text": [
      "Total Salary: 185000\n",
      "Employee with Highest Salary: (3, 'Charlie', 75000)\n"
     ]
    }
   ],
   "source": [
    "# Employee Management System\n",
    "\n",
    "employees = []\n",
    "\n",
    "def add_employee(employee_id, name, salary):\n",
    "    employee = (employee_id, name, salary)\n",
    "    employees.append(employee)\n",
    "\n",
    "def total_salary():\n",
    "    total = sum(employee[2] for employee in employees)\n",
    "    return total\n",
    "\n",
    "def highest_salary_employee():\n",
    "    if not employees:\n",
    "        return None\n",
    "    return max(employees, key=lambda x: x[2])\n",
    "\n",
    "# Example Usage\n",
    "add_employee(1, \"Alice\", 50000)\n",
    "add_employee(2, \"Bob\", 60000)\n",
    "add_employee(3, \"Charlie\", 75000)\n",
    "\n",
    "print(\"Total Salary:\", total_salary())\n",
    "print(\"Employee with Highest Salary:\", highest_salary_employee())"
   ]
  },
  {
   "cell_type": "code",
   "execution_count": 24,
   "metadata": {},
   "outputs": [
    {
     "name": "stdout",
     "output_type": "stream",
     "text": [
      "Shopping Cart:\n",
      "apple x3\n",
      "banana x2\n",
      "orange x1\n",
      "Total Price: 5.2\n"
     ]
    }
   ],
   "source": [
    "# Shopping Cart with Discounts\n",
    "\n",
    "item_prices = {\"apple\": 1.0, \"banana\": 0.5, \"orange\": 1.2}\n",
    "shopping_cart = []\n",
    "\n",
    "def add_to_cart(item, quantity):\n",
    "    if item in item_prices and quantity > 0:\n",
    "        shopping_cart.append((item, quantity))\n",
    "\n",
    "def calculate_total_price():\n",
    "    total_price = sum(item_prices[item] * quantity for item, quantity in shopping_cart)\n",
    "    # Apply a 10% discount if the total price is greater than 50\n",
    "    if total_price > 50:\n",
    "        total_price *= 0.9\n",
    "    return total_price\n",
    "\n",
    "def display_cart():\n",
    "    print(\"Shopping Cart:\")\n",
    "    for item, quantity in shopping_cart:\n",
    "        print(f\"{item} x{quantity}\")\n",
    "\n",
    "# Example Usage\n",
    "add_to_cart(\"apple\", 3)\n",
    "add_to_cart(\"banana\", 2)\n",
    "add_to_cart(\"orange\", 1)\n",
    "\n",
    "display_cart()\n",
    "print(\"Total Price:\", calculate_total_price())"
   ]
  },
  {
   "cell_type": "code",
   "execution_count": 25,
   "metadata": {},
   "outputs": [
    {
     "name": "stdout",
     "output_type": "stream",
     "text": [
      "Alice's Average Grade: 87.66666666666667\n",
      "Bob's Average Grade: 80.0\n",
      "Charlie's Average Grade: 91.66666666666667\n",
      "Class Average Grade: 86.44444444444446\n"
     ]
    }
   ],
   "source": [
    "# Student Grade Calculator\n",
    "\n",
    "students = [(\"Alice\", [90, 85, 88]), (\"Bob\", [78, 80, 82]), (\"Charlie\", [95, 92, 88])]\n",
    "\n",
    "def student_average_grade(student):\n",
    "    name, grades = student\n",
    "    average = sum(grades) / len(grades)\n",
    "    return name, average\n",
    "\n",
    "def class_average():\n",
    "    if not students:\n",
    "        return 0\n",
    "    total_average = sum(student_average_grade(student)[1] for student in students) / len(students)\n",
    "    return total_average\n",
    "\n",
    "# Example Usage\n",
    "for student in students:\n",
    "    name, average = student_average_grade(student)\n",
    "    print(f\"{name}'s Average Grade: {average}\")\n",
    "\n",
    "print(\"Class Average Grade:\", class_average())"
   ]
  },
  {
   "cell_type": "code",
   "execution_count": 27,
   "metadata": {},
   "outputs": [
    {
     "name": "stdout",
     "output_type": "stream",
     "text": [
      "Simple Password: ]cWS2c/c\n",
      "Medium Password: ,BVG6>b/@pSG\n",
      "Complex Password: G=TI<aVI/fi2<ml$\n"
     ]
    }
   ],
   "source": [
    "# Password Generator\n",
    "\n",
    "import random\n",
    "import string\n",
    "\n",
    "def generate_password(length):\n",
    "    # Define character sets\n",
    "    lower_case = string.ascii_lowercase\n",
    "    upper_case = string.ascii_uppercase\n",
    "    digits = string.digits\n",
    "    special_characters = string.punctuation\n",
    "\n",
    "    # Combine character sets based on complexity\n",
    "    all_characters = lower_case + upper_case + digits + special_characters\n",
    "\n",
    "    # Generate password\n",
    "    password = ''.join(random.choice(all_characters) for _ in range(length))\n",
    "    return password\n",
    "\n",
    "# Example Usage\n",
    "simple_password = generate_password(8)\n",
    "medium_password = generate_password(12)\n",
    "complex_password = generate_password(16)\n",
    "\n",
    "print(\"Simple Password:\", simple_password)\n",
    "print(\"Medium Password:\", medium_password)\n",
    "print(\"Complex Password:\", complex_password)"
   ]
  },
  {
   "cell_type": "code",
   "execution_count": 28,
   "metadata": {},
   "outputs": [
    {
     "name": "stdout",
     "output_type": "stream",
     "text": [
      "Current Inventory:\n",
      "Laptop - Quantity: 10, Price: $800\n",
      "Smartphone - Quantity: 20, Price: $400\n",
      "Headphones - Quantity: 30, Price: $50\n",
      "\n",
      "Updated Inventory:\n",
      "Current Inventory:\n",
      "Laptop - Quantity: 8, Price: $800\n",
      "Smartphone - Quantity: 20, Price: $400\n",
      "Headphones - Quantity: 30, Price: $50\n"
     ]
    }
   ],
   "source": [
    "# Inventory Management System\n",
    "\n",
    "inventory = []\n",
    "\n",
    "def add_product(product_name, quantity, price):\n",
    "    product = {\"name\": product_name, \"quantity\": quantity, \"price\": price}\n",
    "    inventory.append(product)\n",
    "\n",
    "def update_quantity(product_name, new_quantity):\n",
    "    for product in inventory:\n",
    "        if product[\"name\"] == product_name:\n",
    "            product[\"quantity\"] = new_quantity\n",
    "            break\n",
    "\n",
    "def display_inventory():\n",
    "    print(\"Current Inventory:\")\n",
    "    for product in inventory:\n",
    "        print(f\"{product['name']} - Quantity: {product['quantity']}, Price: ${product['price']}\")\n",
    "\n",
    "# Example Usage\n",
    "add_product(\"Laptop\", 10, 800)\n",
    "add_product(\"Smartphone\", 20, 400)\n",
    "add_product(\"Headphones\", 30, 50)\n",
    "\n",
    "display_inventory()\n",
    "\n",
    "update_quantity(\"Laptop\", 8)\n",
    "\n",
    "print(\"\\nUpdated Inventory:\")\n",
    "display_inventory()"
   ]
  },
  {
   "cell_type": "markdown",
   "metadata": {},
   "source": [
    "# how to check data type"
   ]
  },
  {
   "cell_type": "markdown",
   "metadata": {},
   "source": [
    "#integer"
   ]
  },
  {
   "cell_type": "code",
   "execution_count": 18,
   "metadata": {},
   "outputs": [
    {
     "name": "stdout",
     "output_type": "stream",
     "text": [
      "<class 'int'>\n",
      "2329375408656\n"
     ]
    }
   ],
   "source": [
    "a = 10\n",
    "\n",
    "print(type(a))               # To check the data type of a ​\n",
    "\n",
    "print(id(a))                      # To check the id of a ​"
   ]
  },
  {
   "cell_type": "code",
   "execution_count": 21,
   "metadata": {},
   "outputs": [
    {
     "name": "stdout",
     "output_type": "stream",
     "text": [
      "True\n",
      "2329375409680 2329375409680\n",
      "False\n",
      "2329375409680 2329375409680\n"
     ]
    }
   ],
   "source": [
    "a = 42\n",
    "\n",
    "b = 42\n",
    "\n",
    "print(a is b)                    # gives True​​\n",
    "\n",
    "print(id(a), id(b))           # id of both a & b is same  ​\n",
    "\n",
    "x = 257\n",
    "\n",
    "y = 257\n",
    "\n",
    "print(x is y)                    # gives False​\n",
    "\n",
    "print(id(a), id(b))           # id of both a & b is same  ​"
   ]
  },
  {
   "cell_type": "markdown",
   "metadata": {},
   "source": [
    "#float"
   ]
  },
  {
   "cell_type": "code",
   "execution_count": 22,
   "metadata": {},
   "outputs": [
    {
     "name": "stdout",
     "output_type": "stream",
     "text": [
      "<class 'float'>\n",
      "2329450485584\n"
     ]
    }
   ],
   "source": [
    "a = 1.5\n",
    "\n",
    "print(type(a))        # To check the data type of a​\n",
    "\n",
    "print(id(a))            # To check the id of a​"
   ]
  },
  {
   "cell_type": "markdown",
   "metadata": {},
   "source": [
    "#complex"
   ]
  },
  {
   "cell_type": "code",
   "execution_count": 24,
   "metadata": {},
   "outputs": [
    {
     "name": "stdout",
     "output_type": "stream",
     "text": [
      "<class 'complex'>\n"
     ]
    }
   ],
   "source": [
    "z = 3 + 4j                # Where 3 is the real part, and 4 is the imaginary part.​\n",
    "\n",
    "print(type(z))            # To check the data type of a​\n",
    "\n",
    "#To check the id of a      # print(id(z))​"
   ]
  },
  {
   "cell_type": "markdown",
   "metadata": {},
   "source": [
    "# boolean"
   ]
  },
  {
   "cell_type": "code",
   "execution_count": 27,
   "metadata": {},
   "outputs": [
    {
     "name": "stdout",
     "output_type": "stream",
     "text": [
      "True <class 'bool'>\n"
     ]
    }
   ],
   "source": [
    "a = bool(20)\n",
    "\n",
    "print(a, type(a))\n"
   ]
  },
  {
   "cell_type": "code",
   "execution_count": 28,
   "metadata": {},
   "outputs": [
    {
     "name": "stdout",
     "output_type": "stream",
     "text": [
      "False <class 'bool'>\n"
     ]
    }
   ],
   "source": [
    "b = bool(0)\n",
    "\n",
    "print(b, type(b))"
   ]
  },
  {
   "cell_type": "markdown",
   "metadata": {},
   "source": [
    "# list"
   ]
  },
  {
   "cell_type": "code",
   "execution_count": 37,
   "metadata": {},
   "outputs": [],
   "source": [
    "my_list = [1, 2, 3, 'apple', 'banana', True]"
   ]
  },
  {
   "cell_type": "code",
   "execution_count": 38,
   "metadata": {},
   "outputs": [],
   "source": [
    "my_list.append('orange')\n"
   ]
  },
  {
   "cell_type": "code",
   "execution_count": 39,
   "metadata": {},
   "outputs": [
    {
     "data": {
      "text/plain": [
       "[1, 2, 3, 'apple', 'banana', True, 'orange']"
      ]
     },
     "execution_count": 39,
     "metadata": {},
     "output_type": "execute_result"
    }
   ],
   "source": [
    "my_list"
   ]
  },
  {
   "cell_type": "code",
   "execution_count": 40,
   "metadata": {},
   "outputs": [],
   "source": [
    "my_list.remove(2)"
   ]
  },
  {
   "cell_type": "code",
   "execution_count": 41,
   "metadata": {},
   "outputs": [
    {
     "data": {
      "text/plain": [
       "[1, 3, 'apple', 'banana', True, 'orange']"
      ]
     },
     "execution_count": 41,
     "metadata": {},
     "output_type": "execute_result"
    }
   ],
   "source": [
    "my_list"
   ]
  },
  {
   "cell_type": "markdown",
   "metadata": {},
   "source": [
    "# tuple"
   ]
  },
  {
   "cell_type": "code",
   "execution_count": 42,
   "metadata": {},
   "outputs": [],
   "source": [
    "my_tuple = (1, 2, 'apple', 'banana', True)"
   ]
  },
  {
   "cell_type": "code",
   "execution_count": 43,
   "metadata": {},
   "outputs": [],
   "source": [
    "count_apple = my_tuple.count('apple')"
   ]
  },
  {
   "cell_type": "code",
   "execution_count": 44,
   "metadata": {},
   "outputs": [
    {
     "data": {
      "text/plain": [
       "1"
      ]
     },
     "execution_count": 44,
     "metadata": {},
     "output_type": "execute_result"
    }
   ],
   "source": [
    "count_apple"
   ]
  },
  {
   "cell_type": "code",
   "execution_count": 45,
   "metadata": {},
   "outputs": [],
   "source": [
    "index_banana = my_tuple.index('banana')"
   ]
  },
  {
   "cell_type": "markdown",
   "metadata": {},
   "source": [
    "# dictionary"
   ]
  },
  {
   "cell_type": "code",
   "execution_count": 46,
   "metadata": {},
   "outputs": [],
   "source": [
    "my_dict = {'name': 'John', 'age': 25, 'city': 'New York'}"
   ]
  },
  {
   "cell_type": "code",
   "execution_count": 47,
   "metadata": {},
   "outputs": [],
   "source": [
    "age = my_dict.get('age', 0)"
   ]
  },
  {
   "cell_type": "code",
   "execution_count": 48,
   "metadata": {},
   "outputs": [
    {
     "data": {
      "text/plain": [
       "25"
      ]
     },
     "execution_count": 48,
     "metadata": {},
     "output_type": "execute_result"
    }
   ],
   "source": [
    "age"
   ]
  },
  {
   "cell_type": "code",
   "execution_count": 49,
   "metadata": {},
   "outputs": [],
   "source": [
    "removed_age = my_dict.pop('age')"
   ]
  },
  {
   "cell_type": "code",
   "execution_count": 50,
   "metadata": {},
   "outputs": [
    {
     "data": {
      "text/plain": [
       "25"
      ]
     },
     "execution_count": 50,
     "metadata": {},
     "output_type": "execute_result"
    }
   ],
   "source": [
    "removed_age"
   ]
  },
  {
   "cell_type": "markdown",
   "metadata": {},
   "source": [
    "# set"
   ]
  },
  {
   "cell_type": "code",
   "execution_count": 51,
   "metadata": {},
   "outputs": [],
   "source": [
    "my_set = {1, 2, 'apple', 'banana', True}"
   ]
  },
  {
   "cell_type": "code",
   "execution_count": 52,
   "metadata": {},
   "outputs": [],
   "source": [
    "my_set.add('orange')"
   ]
  },
  {
   "cell_type": "code",
   "execution_count": 53,
   "metadata": {},
   "outputs": [
    {
     "data": {
      "text/plain": [
       "{1, 2, 'apple', 'banana', 'orange'}"
      ]
     },
     "execution_count": 53,
     "metadata": {},
     "output_type": "execute_result"
    }
   ],
   "source": [
    "my_set"
   ]
  },
  {
   "cell_type": "code",
   "execution_count": 54,
   "metadata": {},
   "outputs": [],
   "source": [
    "my_set.remove(2)"
   ]
  },
  {
   "cell_type": "code",
   "execution_count": 55,
   "metadata": {},
   "outputs": [
    {
     "data": {
      "text/plain": [
       "{1, 'apple', 'banana', 'orange'}"
      ]
     },
     "execution_count": 55,
     "metadata": {},
     "output_type": "execute_result"
    }
   ],
   "source": [
    "my_set"
   ]
  },
  {
   "cell_type": "markdown",
   "metadata": {},
   "source": [
    "# strings"
   ]
  },
  {
   "cell_type": "code",
   "execution_count": 57,
   "metadata": {},
   "outputs": [],
   "source": [
    "#Strings can be declared using either single quotes (‘ ’) or double quotes (“ ”)."
   ]
  },
  {
   "cell_type": "code",
   "execution_count": 62,
   "metadata": {},
   "outputs": [
    {
     "data": {
      "text/plain": [
       "'John Doe'"
      ]
     },
     "execution_count": 62,
     "metadata": {},
     "output_type": "execute_result"
    }
   ],
   "source": [
    "#String Concatenation\n",
    "\n",
    "first_name = \"John\"\n",
    "\n",
    "last_name = \"Doe\"\n",
    "\n",
    "full_name = first_name + \" \" + last_name  \n",
    "\n",
    "full_name"
   ]
  },
  {
   "cell_type": "code",
   "execution_count": 66,
   "metadata": {},
   "outputs": [
    {
     "data": {
      "text/plain": [
       "6"
      ]
     },
     "execution_count": 66,
     "metadata": {},
     "output_type": "execute_result"
    }
   ],
   "source": [
    "#String Length\n",
    "\n",
    "text = \"Python\"\n",
    "\n",
    "length = len(text) \n",
    "length"
   ]
  },
  {
   "cell_type": "markdown",
   "metadata": {},
   "source": [
    "# slicing"
   ]
  },
  {
   "cell_type": "code",
   "execution_count": 72,
   "metadata": {},
   "outputs": [
    {
     "data": {
      "text/plain": [
       "(2, 3, 4)"
      ]
     },
     "execution_count": 72,
     "metadata": {},
     "output_type": "execute_result"
    }
   ],
   "source": [
    "my_tuple = (1, 2, 3, 4, 5) \n",
    "\n",
    "result = my_tuple[1:4] \n",
    "result"
   ]
  },
  {
   "cell_type": "code",
   "execution_count": 73,
   "metadata": {},
   "outputs": [
    {
     "data": {
      "text/plain": [
       "(1, 2, 3, 4, 5, 6)"
      ]
     },
     "execution_count": 73,
     "metadata": {},
     "output_type": "execute_result"
    }
   ],
   "source": [
    "tuple1 = (1, 2, 3) \n",
    "\n",
    "tuple2 = (4, 5, 6) \n",
    "\n",
    "result = tuple1 + tuple2 \n",
    "result"
   ]
  },
  {
   "cell_type": "code",
   "execution_count": 74,
   "metadata": {},
   "outputs": [
    {
     "name": "stdout",
     "output_type": "stream",
     "text": [
      "[2, 3]\n"
     ]
    }
   ],
   "source": [
    "my_list = [1, 2, 3, 4]\n",
    "\n",
    "result = my_list[1:3]\n",
    "\n",
    "print(result)"
   ]
  },
  {
   "cell_type": "code",
   "execution_count": 76,
   "metadata": {},
   "outputs": [
    {
     "data": {
      "text/plain": [
       "[1, 2, 6, 3, 4, 5]"
      ]
     },
     "execution_count": 76,
     "metadata": {},
     "output_type": "execute_result"
    }
   ],
   "source": [
    "my_list = [1, 2, 3, 4, 5] \n",
    "\n",
    "my_list.insert(2, 6) \n",
    "my_list"
   ]
  },
  {
   "cell_type": "code",
   "execution_count": 77,
   "metadata": {},
   "outputs": [
    {
     "data": {
      "text/plain": [
       "2"
      ]
     },
     "execution_count": 77,
     "metadata": {},
     "output_type": "execute_result"
    }
   ],
   "source": [
    "my_dict = {'a': 1, 'b': 2,'c': 3} \n",
    "\n",
    "result = my_dict.get('b', 0) \n",
    "result"
   ]
  },
  {
   "cell_type": "code",
   "execution_count": 78,
   "metadata": {},
   "outputs": [
    {
     "data": {
      "text/plain": [
       "{3, 4}"
      ]
     },
     "execution_count": 78,
     "metadata": {},
     "output_type": "execute_result"
    }
   ],
   "source": [
    "set1 = {1, 2, 3, 4} \n",
    "\n",
    "set2 = {3, 4, 5, 6} \n",
    "\n",
    "result = set1.intersection(set2) \n",
    "result"
   ]
  },
  {
   "cell_type": "code",
   "execution_count": 80,
   "metadata": {},
   "outputs": [
    {
     "data": {
      "text/plain": [
       "dict_keys(['a', 'b', 'c'])"
      ]
     },
     "execution_count": 80,
     "metadata": {},
     "output_type": "execute_result"
    }
   ],
   "source": [
    "my_dict ={'a': 1, 'b': 2, 'c': 3} \n",
    "\n",
    "keys = my_dict.keys() \n",
    "keys"
   ]
  },
  {
   "cell_type": "code",
   "execution_count": 82,
   "metadata": {},
   "outputs": [
    {
     "data": {
      "text/plain": [
       "dict_keys(['a', 'b', 'c'])"
      ]
     },
     "execution_count": 82,
     "metadata": {},
     "output_type": "execute_result"
    }
   ],
   "source": [
    "my_dict = {'a': 1, 'b': 2, 'c': 3} \n",
    "\n",
    "keys = my_dict.keys() \n",
    "keys"
   ]
  },
  {
   "cell_type": "code",
   "execution_count": 84,
   "metadata": {},
   "outputs": [
    {
     "data": {
      "text/plain": [
       "{1, 2, 3, 4, 5, 6}"
      ]
     },
     "execution_count": 84,
     "metadata": {},
     "output_type": "execute_result"
    }
   ],
   "source": [
    "my_set = {1, 2, 3, 4} \n",
    "\n",
    "my_set.update({3, 4, 5, 6}) \n",
    "my_set"
   ]
  },
  {
   "cell_type": "code",
   "execution_count": null,
   "metadata": {},
   "outputs": [],
   "source": []
  }
 ],
 "metadata": {
  "kernelspec": {
   "display_name": "Python 3",
   "language": "python",
   "name": "python3"
  },
  "language_info": {
   "codemirror_mode": {
    "name": "ipython",
    "version": 3
   },
   "file_extension": ".py",
   "mimetype": "text/x-python",
   "name": "python",
   "nbconvert_exporter": "python",
   "pygments_lexer": "ipython3",
   "version": "3.10.10"
  }
 },
 "nbformat": 4,
 "nbformat_minor": 2
}
